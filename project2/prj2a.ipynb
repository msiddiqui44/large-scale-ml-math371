{
 "cells": [
  {
   "cell_type": "markdown",
   "id": "431cae5c",
   "metadata": {},
   "source": [
    "## newnetwork2.ipynb\n",
    "An improved version of network.py, implementing the stochastic gradient descent learning algorithm\n",
    "for a feedforward neural network. Improvements include the addition of the cross-entropy cost function,\n",
    "regularization, and better initialization of network weights."
   ]
  },
  {
   "cell_type": "markdown",
   "id": "3f7b93ee",
   "metadata": {},
   "source": [
    "### Libraries"
   ]
  },
  {
   "cell_type": "code",
   "execution_count": 1,
   "id": "2f9c983a",
   "metadata": {
    "lines_to_next_cell": 1
   },
   "outputs": [],
   "source": [
    "import random\n",
    "import sys\n",
    "import numpy as np"
   ]
  },
  {
   "cell_type": "markdown",
   "id": "7e8ab892",
   "metadata": {},
   "source": [
    "### Define the quadratic and cross-entropy cost functions"
   ]
  },
  {
   "cell_type": "code",
   "execution_count": 2,
   "id": "af64ca94-c1e2-42fb-88bf-b1be38ffae96",
   "metadata": {},
   "outputs": [],
   "source": [
    "class LogLikelihoodCost(object):\n",
    "    @staticmethod\n",
    "    def fn(a, y):\n",
    "        return -np.log(a[np.argmax(y)])\n",
    "    \n",
    "    @staticmethod\n",
    "    def delta(z, a, y):\n",
    "        return a - y\n"
   ]
  },
  {
   "cell_type": "code",
   "execution_count": null,
   "id": "e84d5cc8-69b7-4938-8bd5-bd3270b7c351",
   "metadata": {},
   "outputs": [],
   "source": []
  },
  {
   "cell_type": "code",
   "execution_count": 3,
   "id": "df0e99a2",
   "metadata": {
    "lines_to_next_cell": 1
   },
   "outputs": [],
   "source": [
    "class QuadraticCost(object):\n",
    "\n",
    "    @staticmethod\n",
    "    def fn(a, y):\n",
    "        # Return the cost associated with an output ``a`` and desired output ``y``.\n",
    "\n",
    "        return 0.5*np.linalg.norm(a-y)**2\n",
    "\n",
    "    @staticmethod\n",
    "    def delta(z, a, y):\n",
    "        # Return the error delta from the output layer.\n",
    "\n",
    "        return (a-y) * sigmoid_prime(z)"
   ]
  },
  {
   "cell_type": "code",
   "execution_count": 4,
   "id": "8bf684b4",
   "metadata": {
    "lines_to_next_cell": 1
   },
   "outputs": [],
   "source": [
    "class CrossEntropyCost(object):\n",
    "\n",
    "    @staticmethod\n",
    "    def fn(a, y):\n",
    "        # Return the cost associated with an output ``a`` and desired output ``y``. \n",
    "        # Note that np.nan_to_num is used to ensure numerical stability. In particular, \n",
    "        # if both ``a`` and ``y`` have a 1.0 in the same slot, then the expression (1-y)*np.log(1-a)\n",
    "        # returns nan.  The np.nan_to_num ensures that that is converted to the correct value (0.0).\n",
    "\n",
    "       return np.sum(np.nan_to_num(-y*np.log(a)-(1-y)*np.log(1-a)))\n",
    "\n",
    "    @staticmethod\n",
    "    def delta(z, a, y):\n",
    "        # Return the error delta from the output layer. Note that the parameter ``z`` is not used by the method.\n",
    "        # It is included in the method's parameters in order to make the interface consistent with the delta method\n",
    "        # for other cost classes.\n",
    "\n",
    "        return (a-y)"
   ]
  },
  {
   "cell_type": "code",
   "execution_count": 5,
   "id": "cd146a88",
   "metadata": {
    "lines_to_next_cell": 1
   },
   "outputs": [],
   "source": [
    "#### Main Network class\n",
    "class Network(object):\n",
    "\n",
    "    def __init__(self, sizes, cost=CrossEntropyCost):\n",
    "        # The list ``sizes`` contains the number of neurons in the respective layers of the network.\n",
    "        # For example, if the list was [2, 3, 1] then it would be a three-layer network, with the first layer\n",
    "        # containing 2 neurons, the second layer 3 neurons, and the third layer 1 neuron. The biases and weights\n",
    "        # for the network are initialized randomly, using ``self.default_weight_initializer``\n",
    "\n",
    "        self.num_layers = len(sizes)\n",
    "        self.sizes = sizes\n",
    "        self.default_weight_initializer()\n",
    "        self.cost=cost\n",
    "\n",
    "    def default_weight_initializer(self):\n",
    "        # Initialize each weight using a Gaussian distribution with mean 0 and standard deviation 1 over the square root\n",
    "        # of the number of weights connecting to the same neuron. Initialize the biases using a Gaussian distribution\n",
    "        # with mean 0 and standard deviation 1.\n",
    "\n",
    "        # Note that the first layer is assumed to be an input layer, and by convention we won't set any biases for \n",
    "        # those neurons, since biases are only ever used in computing the outputs from later layers.\n",
    "\n",
    "        self.biases = [np.random.randn(y, 1) for y in self.sizes[1:]]\n",
    "        self.weights = [np.random.randn(y, x)/np.sqrt(x) for x, y in zip(self.sizes[:-1], self.sizes[1:])]\n",
    "\n",
    "    def large_weight_initializer(self):\n",
    "        # Initialize the weights using a Gaussian distribution with mean 0 and standard deviation 1.\n",
    "        # Initialize the biases using a Gaussian distribution with mean 0 and standard deviation 1.\n",
    "\n",
    "\n",
    "        # This weight and bias initializer uses the same approach as in Chapter 1, and is included for purposes of comparison.\n",
    "        # It will usually be better to use the default weight initializer instead.\n",
    "\n",
    "        self.biases = [np.random.randn(y, 1) for y in self.sizes[1:]]\n",
    "        self.weights = [np.random.randn(y, x) for x, y in zip(self.sizes[:-1], self.sizes[1:])]\n",
    "\n",
    "    def feedforward(self, a):\n",
    "        # Return the output of the network if ``a`` is input.\n",
    "\n",
    "        for b, w in zip(self.biases, self.weights):\n",
    "            a = sigmoid(np.dot(w, a)+b)\n",
    "        return a\n",
    "\n",
    "    def SGD(self, training_data, epochs, mini_batch_size, eta,\n",
    "            lmbda = 0.0,\n",
    "            evaluation_data=None,\n",
    "            monitor_evaluation_cost=False,\n",
    "            monitor_evaluation_accuracy=False,\n",
    "            monitor_training_cost=False,\n",
    "            monitor_training_accuracy=False):\n",
    "\n",
    "        # Train the neural network using mini-batch stochastic gradient descent. The ``training_data`` is a list of\n",
    "        # tuples ``(x, y)`` representing the training inputs and the desired outputs. The other non-optional parameters\n",
    "        # are self-explanatory, as is the regularization parameter ``lmbda``.  The method also accepts ``evaluation_data``,\n",
    "        # usually either the validation or test data. We can monitor the cost and accuracy on either the evaluation data\n",
    "        # or the training data, by setting the appropriate flags. The method returns a tuple containing four lists: \n",
    "        # the (per-epoch) costs on the evaluation data, the accuracies on the evaluation data,\n",
    "        # the costs on the training data, and the accuracies on the training data. \n",
    "        # All values are evaluated at the end of each training epoch. So, for example, if we train for 30 epochs,\n",
    "        # then the first element of the tuple will be a 30-element list containing the cost on the evaluation data at the end\n",
    "        # of each epoch. Note that the listsare empty if the corresponding flag is not set.\n",
    "\n",
    "        if evaluation_data:\n",
    "            n_data = len(evaluation_data)\n",
    "        n = len(training_data)\n",
    "        evaluation_cost, evaluation_accuracy = [], []\n",
    "        training_cost, training_accuracy = [], []\n",
    "        for j in range(epochs):\n",
    "            random.shuffle(training_data)\n",
    "            mini_batches = [\n",
    "                training_data[k:k+mini_batch_size]\n",
    "                for k in range(0, n, mini_batch_size)]\n",
    "            for mini_batch in mini_batches:\n",
    "                self.update_mini_batch(\n",
    "                    mini_batch, eta, lmbda, len(training_data))\n",
    "            print(\"Epoch %s training complete\" % j)\n",
    "            if monitor_training_cost:\n",
    "                cost = self.total_cost(training_data, lmbda)\n",
    "                training_cost.append(cost)\n",
    "                print(\"Cost on training data: {}\".format(cost))\n",
    "            if monitor_training_accuracy:\n",
    "                accuracy = self.accuracy(training_data, convert=True)\n",
    "                training_accuracy.append(accuracy)\n",
    "                print(\"Accuracy on training data: {} / {}\".format(\n",
    "                    accuracy, n))\n",
    "            if monitor_evaluation_cost:\n",
    "                cost = self.total_cost(evaluation_data, lmbda, convert=True)\n",
    "                evaluation_cost.append(cost)\n",
    "                print(\"Cost on evaluation data: {}\".format(cost))\n",
    "            if monitor_evaluation_accuracy:\n",
    "                accuracy = self.accuracy(evaluation_data)\n",
    "                evaluation_accuracy.append(accuracy)\n",
    "                print(\"Accuracy on evaluation data: {} / {}\".format(\n",
    "                    self.accuracy(evaluation_data), n_data))\n",
    "\n",
    "        return evaluation_cost, evaluation_accuracy, training_cost, training_accuracy\n",
    "\n",
    "    def update_mini_batch(self, mini_batch, eta, lmbda, n):\n",
    "        # Update the network's weights and biases by applying gradient descent using backpropagation to a single mini batch.\n",
    "        # The ``mini_batch`` is a list of tuples ``(x, y)``, ``eta`` is the learning rate, ``lmbda`` is the regularization\n",
    "        # parameter, and ``n`` is the total size of the training data set.\n",
    "\n",
    "        nabla_b = [np.zeros(b.shape) for b in self.biases]\n",
    "        nabla_w = [np.zeros(w.shape) for w in self.weights]\n",
    "        for x, y in mini_batch:\n",
    "            delta_nabla_b, delta_nabla_w = self.backprop(x, y)\n",
    "            nabla_b = [nb+dnb for nb, dnb in zip(nabla_b, delta_nabla_b)]\n",
    "            nabla_w = [nw+dnw for nw, dnw in zip(nabla_w, delta_nabla_w)]\n",
    "        self.weights = [(1-eta*(lmbda/n))*w-(eta/len(mini_batch))*nw for w, nw in zip(self.weights, nabla_w)]\n",
    "        self.biases = [b-(eta/len(mini_batch))*nb for b, nb in zip(self.biases, nabla_b)]\n",
    "\n",
    "    def backprop(self, x, y):\n",
    "        # Return a tuple ``(nabla_b, nabla_w)`` representing the gradient for the cost function C_x.\n",
    "        # ``nabla_b`` and ``nabla_w`` are layer-by-layer lists of numpy arrays, similar to ``self.biases`` and ``self.weights``.\n",
    "\n",
    "        nabla_b = [np.zeros(b.shape) for b in self.biases]\n",
    "        nabla_w = [np.zeros(w.shape) for w in self.weights]\n",
    "        # feedforward\n",
    "        activation = x\n",
    "        activations = [x] # list to store all the activations, layer by layer\n",
    "        zs = [] # list to store all the z vectors, layer by layer\n",
    "        for b, w in zip(self.biases, self.weights):\n",
    "            z = np.dot(w, activation)+b\n",
    "            zs.append(z)\n",
    "            activation = sigmoid(z)\n",
    "            activations.append(activation)\n",
    "        # backward pass\n",
    "        delta = self.cost.delta(zs[-1], activations[-1], y)\n",
    "        nabla_b[-1] = delta\n",
    "        nabla_w[-1] = np.dot(delta, activations[-2].transpose())\n",
    "\n",
    "        # Note that the variable l in the loop below is used a little differently to the notation in Chapter 2 of the book.\n",
    "        # Here, l = 1 means the last layer of neurons, l = 2 is the second-last layer, and so on.  It's a renumbering of the\n",
    "        # scheme in the book, used here to take advantage of the fact that Python can use negative indices in lists.\n",
    "\n",
    "        for l in range(2, self.num_layers):\n",
    "            z = zs[-l]\n",
    "            sp = sigmoid_prime(z)\n",
    "            delta = np.dot(self.weights[-l+1].transpose(), delta) * sp\n",
    "            nabla_b[-l] = delta\n",
    "            nabla_w[-l] = np.dot(delta, activations[-l-1].transpose())\n",
    "        return (nabla_b, nabla_w)\n",
    "\n",
    "    def accuracy(self, data, convert=False):\n",
    "        # Return the number of inputs in ``data`` for which the neural network outputs the correct result. The neural network's\n",
    "        # output is assumed to be the index of whichever neuron in the final layer has the highest activation.\n",
    "\n",
    "        # The flag ``convert`` should be set to False if the data set is validation or test data (the usual case), and to True\n",
    "        # if the data set is the training data. The need for this flag arises due to differences in the way the results ``y`` are\n",
    "        # represented in the different data sets.  In particular, it flags whether we need to convert between the different\n",
    "        # representations. It may seem strange to use different representations for the different data sets. Why not use the\n",
    "        # same representation for all three data sets?  It's done for efficiency reasons -- the program usually evaluates the cost\n",
    "        # on the training data and the accuracy on other data sets. These are different types of computations, and using different\n",
    "        # representations speeds things up. More details on the representations can be found in mnist_loader.load_data_wrapper.\n",
    "\n",
    "        if convert:\n",
    "            results = [(np.argmax(self.feedforward(x)), np.argmax(y)) for (x, y) in data]\n",
    "        else:\n",
    "            results = [(np.argmax(self.feedforward(x)), y) for (x, y) in data]\n",
    "        return sum(int(x == y) for (x, y) in results)\n",
    "\n",
    "    def total_cost(self, data, lmbda, convert=False):\n",
    "        # Return the total cost for the data set ``data``. The flag ``convert`` should be set to False if the data set is the\n",
    "        # training data (the usual case), and to True if the data set is the validation or test data.\n",
    "\n",
    "        cost = 0.0\n",
    "        for x, y in data:\n",
    "            a = self.feedforward(x)\n",
    "            if convert: y = vectorized_result(y)\n",
    "            cost += self.cost.fn(a, y)/len(data)\n",
    "        cost += 0.5*(lmbda/len(data))*sum(np.linalg.norm(w)**2 for w in self.weights)\n",
    "        return cost"
   ]
  },
  {
   "cell_type": "markdown",
   "id": "a23c2415",
   "metadata": {},
   "source": [
    "### Miscellaneous functions"
   ]
  },
  {
   "cell_type": "code",
   "execution_count": 6,
   "id": "c868238f",
   "metadata": {
    "lines_to_next_cell": 1
   },
   "outputs": [],
   "source": [
    "def vectorized_result(j):\n",
    "    # Return a 10-dimensional unit vector with a 1.0 in the j'th position and zeroes elsewhere. This is used to convert\n",
    "    # a digit (0...9) into a corresponding desired output from the neural network.\n",
    "\n",
    "    e = np.zeros((10, 1))\n",
    "    e[j] = 1.0\n",
    "    return e"
   ]
  },
  {
   "cell_type": "code",
   "execution_count": 7,
   "id": "1cc894c1",
   "metadata": {
    "lines_to_next_cell": 1
   },
   "outputs": [],
   "source": [
    "def sigmoid(z):\n",
    "    # The sigmoid function.\n",
    "\n",
    "    return 1.0/(1.0+np.exp(-z))"
   ]
  },
  {
   "cell_type": "code",
   "execution_count": 8,
   "id": "7c04b96f",
   "metadata": {
    "lines_to_next_cell": 1
   },
   "outputs": [],
   "source": [
    "def sigmoid_prime(z):\n",
    "    # Derivative of the sigmoid function.\n",
    "\n",
    "    return sigmoid(z)*(1-sigmoid(z))"
   ]
  },
  {
   "cell_type": "code",
   "execution_count": 9,
   "id": "8c9d45a0-ab33-4659-ad95-d7ff47ca8375",
   "metadata": {},
   "outputs": [],
   "source": [
    "def softmax(z):\n",
    "    exp_z = np.exp(z - np.max(z))  # for numerical stability\n",
    "    return exp_z / np.sum(exp_z)\n"
   ]
  },
  {
   "cell_type": "markdown",
   "id": "f85eda41",
   "metadata": {},
   "source": [
    "## mnist_loader"
   ]
  },
  {
   "cell_type": "markdown",
   "id": "2ae2396b",
   "metadata": {},
   "source": [
    "A library to load the MNIST image data. For details of the data structures that are returned, see the doc strings for\n",
    "``load_data`` and ``load_data_wrapper``. In practice, ``load_data_wrapper`` is the function called by neural network code."
   ]
  },
  {
   "cell_type": "markdown",
   "id": "3733d2a5",
   "metadata": {},
   "source": [
    "### Libraries"
   ]
  },
  {
   "cell_type": "code",
   "execution_count": 10,
   "id": "26df7ede",
   "metadata": {
    "lines_to_next_cell": 1
   },
   "outputs": [],
   "source": [
    "import pickle\n",
    "import gzip"
   ]
  },
  {
   "cell_type": "code",
   "execution_count": 11,
   "id": "cf70e958",
   "metadata": {
    "lines_to_next_cell": 1
   },
   "outputs": [],
   "source": [
    "def load_data():\n",
    "    # Return the MNIST data as a tuple containing the training data, the validation data, and the test data.\n",
    "    # The ``training_data`` is returned as a tuple with two entries. The first entry contains the actual training images.\n",
    "    # This is a numpy ndarray with 50,000 entries. Each entry is, in turn, a numpy ndarray with 784 values, representing\n",
    "    # the 28 * 28 = 784 pixels in a single MNIST image. The second entry in the ``training_data`` tuple is a numpy ndarray\n",
    "    # containing 50,000 entries. Those entries are just the digit values (0...9) for the corresponding images contained \n",
    "    # in the first entry of the tuple.\n",
    "\n",
    "    # The ``validation_data`` and ``test_data`` are similar, except each contains only 10,000 images.\n",
    "\n",
    "    f = gzip.open('mnist.pkl.gz', 'rb')\n",
    "    u = pickle._Unpickler(f)\n",
    "    u.encoding = 'latin1'\n",
    "    training_data, validation_data, test_data = u.load()\n",
    "    f.close()\n",
    "    return (training_data, validation_data, test_data)"
   ]
  },
  {
   "cell_type": "code",
   "execution_count": 12,
   "id": "e98e9247",
   "metadata": {
    "lines_to_next_cell": 1
   },
   "outputs": [],
   "source": [
    "def load_data_wrapper():\n",
    "    # Return a tuple containing ``(training_data, validation_data, test_data)``. Based on ``load_data``,\n",
    "    # but the format is more convenient for use in our implementation of neural networks.\n",
    "\n",
    "    # In particular, ``training_data`` is a list containing 50,000 2-tuples ``(x, y)``.  ``x`` is a 784-dimensional \n",
    "    # numpy.ndarray containing the input image.  ``y`` is a 10-dimensional numpy.ndarray representing the unit vector\n",
    "    # corresponding to the correct digit for ``x``.\n",
    "\n",
    "    # ``validation_data`` and ``test_data`` are lists containing 10,000 2-tuples ``(x, y)``.  In each case, \n",
    "    # ``x`` is a 784-dimensional numpy.ndarry containing the input image, and ``y`` is the corresponding classification,\n",
    "    # i.e., the digit values (integers) corresponding to ``x``.\n",
    "    \n",
    "    tr_d, va_d, te_d = load_data()\n",
    "    training_inputs = [np.reshape(x, (784, 1)) for x in tr_d[0]]\n",
    "    training_results = [vectorized_result(y) for y in tr_d[1]]\n",
    "    training_data = list(zip(training_inputs, training_results))\n",
    "    validation_inputs = [np.reshape(x, (784, 1)) for x in va_d[0]]\n",
    "    validation_data = list(zip(validation_inputs, va_d[1]))\n",
    "    test_inputs = [np.reshape(x, (784, 1)) for x in te_d[0]]\n",
    "    test_data = list(zip(test_inputs, te_d[1]))\n",
    "    return (training_data, validation_data, test_data)"
   ]
  },
  {
   "cell_type": "code",
   "execution_count": 13,
   "id": "c1e630dd",
   "metadata": {
    "lines_to_next_cell": 1
   },
   "outputs": [],
   "source": [
    "def run_experiments():\n",
    "\n",
    "    # Run the experiments described in chapter 1 of the book.\n",
    "\n",
    "    training_data, validation_data, test_data = load_data_wrapper()\n",
    "    net = Network([784, 30, 10], cost = LogLikelihoodCost)\n",
    "    net.SGD(training_data, 30, 10, 0.5, lmbda = 5.0, evaluation_data = validation_data, monitor_evaluation_accuracy = True, \\\n",
    "            monitor_evaluation_cost = True, monitor_training_accuracy = True, monitor_training_cost = True)"
   ]
  },
  {
   "cell_type": "markdown",
   "id": "ebe07865",
   "metadata": {},
   "source": [
    "It is time to call the function run_experiments() to execute all the commands"
   ]
  },
  {
   "cell_type": "code",
   "execution_count": 14,
   "id": "1c8ec414",
   "metadata": {},
   "outputs": [
    {
     "name": "stdout",
     "output_type": "stream",
     "text": [
      "Epoch 0 training complete\n"
     ]
    },
    {
     "name": "stderr",
     "output_type": "stream",
     "text": [
      "\n",
      "KeyboardInterrupt\n",
      "\n"
     ]
    }
   ],
   "source": [
    "run_experiments()"
   ]
  }
 ],
 "metadata": {
  "jupytext": {
   "cell_metadata_filter": "-all",
   "main_language": "python",
   "notebook_metadata_filter": "-all"
  },
  "kernelspec": {
   "display_name": "Python 3 (ipykernel)",
   "language": "python",
   "name": "python3"
  },
  "language_info": {
   "codemirror_mode": {
    "name": "ipython",
    "version": 3
   },
   "file_extension": ".py",
   "mimetype": "text/x-python",
   "name": "python",
   "nbconvert_exporter": "python",
   "pygments_lexer": "ipython3",
   "version": "3.12.9"
  }
 },
 "nbformat": 4,
 "nbformat_minor": 5
}
